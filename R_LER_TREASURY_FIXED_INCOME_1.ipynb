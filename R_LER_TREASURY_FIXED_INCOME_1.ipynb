{
  "nbformat": 4,
  "nbformat_minor": 0,
  "metadata": {
    "colab": {
      "provenance": [],
      "toc_visible": true,
      "authorship_tag": "ABX9TyOe0AHczMTTFswiffPoANYz",
      "include_colab_link": true
    },
    "kernelspec": {
      "name": "python3",
      "display_name": "Python 3"
    },
    "language_info": {
      "name": "python"
    }
  },
  "cells": [
    {
      "cell_type": "markdown",
      "metadata": {
        "id": "view-in-github",
        "colab_type": "text"
      },
      "source": [
        "<a href=\"https://colab.research.google.com/github/horasan/ml/blob/main/R_LER_TREASURY_FIXED_INCOME_1.ipynb\" target=\"_parent\"><img src=\"https://colab.research.google.com/assets/colab-badge.svg\" alt=\"Open In Colab\"/></a>"
      ]
    },
    {
      "cell_type": "code",
      "source": [
        "import pandas as pd\n",
        "import numpy as np\n",
        "import seaborn as sns\n",
        "import matplotlib.pyplot as plt\n",
        "from google.colab import drive\n",
        "%matplotlib inline\n",
        "import plotly.graph_objects as go\n",
        "import plotly.express as px\n",
        "import scipy.stats as stats\n",
        "from IPython.display import display, HTML\n",
        "import math\n",
        "sns.set_style('darkgrid')\n",
        "pd.set_option('display.max_columns', None) # all the columns will be shown\n",
        "pd.set_option('display.max_rows', 99) # 99 of the possible rows will be shown"
      ],
      "metadata": {
        "id": "7TjSHH35E-NF"
      },
      "execution_count": 106,
      "outputs": []
    },
    {
      "cell_type": "code",
      "source": [
        "drive.mount('/content/drive')\n",
        "DRIVE_DATASET_PATH = \"/content/drive/My Drive/Colab Notebooks/0_R_LER/TREASURY/\""
      ],
      "metadata": {
        "colab": {
          "base_uri": "https://localhost:8080/"
        },
        "id": "0QCalI-gFBDk",
        "outputId": "ec9fb3d5-70e5-4526-8ca7-9d1f151c2ae4"
      },
      "execution_count": 107,
      "outputs": [
        {
          "output_type": "stream",
          "name": "stdout",
          "text": [
            "Drive already mounted at /content/drive; to attempt to forcibly remount, call drive.mount(\"/content/drive\", force_remount=True).\n"
          ]
        }
      ]
    },
    {
      "cell_type": "markdown",
      "source": [
        "#0) Functions"
      ],
      "metadata": {
        "id": "FPykLqdk2diB"
      }
    },
    {
      "cell_type": "markdown",
      "source": [
        "## calculate_compounded_interest"
      ],
      "metadata": {
        "id": "rCFBvN9l2mbj"
      }
    },
    {
      "cell_type": "code",
      "source": [
        "# TODO: Document needed,\n",
        "# TODO: There is no exception handling\n",
        "def calculate_compounded_interest(X, m, r, t):\n",
        "  P_t = ((1 + r / m)**(t*m))*X\n",
        "  return P_t"
      ],
      "metadata": {
        "id": "0Zf5s8K1KQBO"
      },
      "execution_count": 108,
      "outputs": []
    },
    {
      "cell_type": "markdown",
      "source": [
        "## get_equivalent_rate"
      ],
      "metadata": {
        "id": "bPM-vS452wvk"
      }
    },
    {
      "cell_type": "code",
      "source": [
        "# TODO: Document needed: P_t is the future value.\n",
        "# TODO: There is no exception handling\n",
        "def get_equivalent_rate(P_t, X, m, t):\n",
        "  r = ((P_t / X)**(1/(t*m)) - 1)*m\n",
        "  return r"
      ],
      "metadata": {
        "id": "5Stjg_uYOkTr"
      },
      "execution_count": 109,
      "outputs": []
    },
    {
      "cell_type": "markdown",
      "source": [
        "## calculate_present_value"
      ],
      "metadata": {
        "id": "mIbcRm3525lr"
      }
    },
    {
      "cell_type": "code",
      "source": [
        "# TODO: Document needed,\n",
        "# TODO: There is no exception handling\n",
        "# total_return_amount: amount to be paind in the future, r: prevailing interest rate, m: frequency per year, t: duration (unit is year)\n",
        "def calculate_present_value(total_return_amount, r, m, t):\n",
        "  PV = total_return_amount / ((1 + r/m) ** (m*t))\n",
        "  return PV"
      ],
      "metadata": {
        "id": "xXoSZBlkUE5Y"
      },
      "execution_count": 110,
      "outputs": []
    },
    {
      "cell_type": "markdown",
      "source": [
        "## print_bond_present_value_description"
      ],
      "metadata": {
        "id": "ne5X-p-d3Bi0"
      }
    },
    {
      "cell_type": "code",
      "source": [
        "# TODO: Document needed,\n",
        "# TODO: There is no exception handling\n",
        "\n",
        "def print_bond_present_value_description(bond_pre_future_data):\n",
        "  total_present_value = 0.0;\n",
        "  for index, row in bond_pre_future_data.iterrows(): # for each row in the DataFrame\n",
        "    total_present_value = total_present_value + row[\"present_value\"]\n",
        "    print(\"${:.2f}\".format(row[\"coupon_value\"]), \" will be paid \", row[\"time\"], \" year(s) later. Present value of \", \"${:.2f}\".format(row[\"coupon_value\"]), \" is \", \"${:.2f}\".format(row[\"present_value\"]))\n",
        "  print(\"Present value of the bond is \" +  \"${:.2f}\".format(total_present_value))\n",
        "\n"
      ],
      "metadata": {
        "id": "ibZM565hvzIK"
      },
      "execution_count": 111,
      "outputs": []
    },
    {
      "cell_type": "markdown",
      "source": [
        "## get_formatted_amout"
      ],
      "metadata": {
        "id": "5rgLeXl58XYF"
      }
    },
    {
      "cell_type": "code",
      "source": [
        "def get_formatted_amout(amount):\n",
        "    return \"${:.2f}\".format(amount)"
      ],
      "metadata": {
        "id": "Qq16M1Dh8cF8"
      },
      "execution_count": 112,
      "outputs": []
    },
    {
      "cell_type": "markdown",
      "source": [
        "#1) Compounded Interest"
      ],
      "metadata": {
        "id": "Y9qVuREeFxQ2"
      }
    },
    {
      "cell_type": "markdown",
      "source": [
        "**Example**: Calculate the future value of 5 years of a $15.000 investment at the risk free rate if the semiannually compounded rate for this term is 6%.\n",
        "Do the same using a montly compounded rate of 5.5%."
      ],
      "metadata": {
        "id": "hPZu2MVnL7W1"
      }
    },
    {
      "cell_type": "markdown",
      "source": [
        "![image.png](data:image/png;base64,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)\n",
        "\n",
        "\n",
        "\n",
        "*   P(t) = Future Value\n",
        "*   m = frequency (m times per year)\n",
        "*   t = unit is year\n",
        "*   X = initial investment\n",
        "\n",
        "\n",
        "\n",
        "\n"
      ],
      "metadata": {
        "id": "0gwaPT3cHRDM"
      }
    },
    {
      "cell_type": "code",
      "source": [
        "X = 15000\n",
        "m = 2 # semiannually compounded\n",
        "r = 0.06\n",
        "t = 5 # years\n",
        "\n",
        "P_t = (1 + r / m)**(t*m)*X\n",
        "P_t # future value of X in the given parameters\n",
        "print(\"P(t) for %\", X, \"m=\", m, \"r=\", r , \"t=\", t,  \"years: \", P_t)\n"
      ],
      "metadata": {
        "colab": {
          "base_uri": "https://localhost:8080/"
        },
        "id": "7a3S9c0jHpxX",
        "outputId": "77b93f4d-095b-47fe-9b9c-8254e0bc3e8c"
      },
      "execution_count": 113,
      "outputs": [
        {
          "output_type": "stream",
          "name": "stdout",
          "text": [
            "P(t) for % 15000 m= 2 r= 0.06 t= 5 years:  20158.74569016183\n"
          ]
        }
      ]
    },
    {
      "cell_type": "code",
      "source": [
        "X = 15000\n",
        "m = 12 # montly compounded\n",
        "r = 0.055\n",
        "t = 5 # years\n",
        "\n",
        "P_t = (1 + r / m)**(t*m)*X\n",
        "P_t # future value of X in the given parameters\n",
        "print(\"P(t) for %\", X, \"m=\", m, \"r=\", r , \"t=\", t,  \"years: \", P_t)"
      ],
      "metadata": {
        "colab": {
          "base_uri": "https://localhost:8080/"
        },
        "id": "E53bi_zHHfHC",
        "outputId": "ed01d705-4a97-45fe-d846-f9da4615a53a"
      },
      "execution_count": 114,
      "outputs": [
        {
          "output_type": "stream",
          "name": "stdout",
          "text": [
            "P(t) for % 15000 m= 12 r= 0.055 t= 5 years:  19735.55658804324\n"
          ]
        }
      ]
    },
    {
      "cell_type": "code",
      "source": [
        "print(calculate_compounded_interest(15000, 2, 0.06, 5))\n",
        "print(calculate_compounded_interest(15000, 12, 0.055, 5))"
      ],
      "metadata": {
        "colab": {
          "base_uri": "https://localhost:8080/"
        },
        "id": "8ptaf-4TKlUF",
        "outputId": "6bf9b864-3495-47d9-a619-5a822ca75e80"
      },
      "execution_count": 115,
      "outputs": [
        {
          "output_type": "stream",
          "name": "stdout",
          "text": [
            "20158.74569016183\n",
            "19735.55658804324\n"
          ]
        }
      ]
    },
    {
      "cell_type": "markdown",
      "source": [
        "#2) Interest rate conversions"
      ],
      "metadata": {
        "id": "j_re9v7eLEg_"
      }
    },
    {
      "cell_type": "markdown",
      "source": [],
      "metadata": {
        "id": "_Iop5dmvL135"
      }
    },
    {
      "cell_type": "markdown",
      "source": [
        "**Example**: If the annually compounded interest rate is 5%, what is the corresponding semiannualy compounded interest rate?"
      ],
      "metadata": {
        "id": "Dfhi1T8sLsT6"
      }
    },
    {
      "cell_type": "code",
      "source": [
        "X = 1 # assume initial investment is $1\n",
        "m = 1 # annually\n",
        "r = 0.05\n",
        "t = 1 # assume loan duration is 1 year\n",
        "\n",
        "X_2 = 1 # same amount\n",
        "m_2 = 2 # semi annually\n",
        "r_2 = 0 # unknown\n",
        "t_2 = 1 # same duration\n",
        "\n",
        "P_t_1 = calculate_compounded_interest(X, m, r, t)\n",
        "print(P_t_1)\n",
        "print(get_equivalent_rate(P_t_1, 1, 2, 1))\n"
      ],
      "metadata": {
        "colab": {
          "base_uri": "https://localhost:8080/"
        },
        "id": "zzWxEniPLfV9",
        "outputId": "e0ec238a-4267-4583-dfe4-e06d1c5c2cd0"
      },
      "execution_count": 116,
      "outputs": [
        {
          "output_type": "stream",
          "name": "stdout",
          "text": [
            "1.05\n",
            "0.04939015319191986\n"
          ]
        }
      ]
    },
    {
      "cell_type": "markdown",
      "source": [
        "#3) Continuous Compounding: TODO\n"
      ],
      "metadata": {
        "id": "s2TUs_CWR9dG"
      }
    },
    {
      "cell_type": "markdown",
      "source": [
        "#4) Bonds and Discounted Cash Flow Analysis"
      ],
      "metadata": {
        "id": "aZWC9nDdSFW4"
      }
    },
    {
      "cell_type": "markdown",
      "source": [
        "## **Example**:\n",
        "\n",
        "Calculate the price of a bond with a $1000 face value which pays annual coupon(interest) of 5%, and which matures in 4 years. Assume the prevailing interest rate (annually compounded) is 6% for all loan terms (flat term structure)."
      ],
      "metadata": {
        "id": "HWn5hEPDSeKm"
      }
    },
    {
      "cell_type": "markdown",
      "source": [
        "## Given bond information"
      ],
      "metadata": {
        "id": "q-RX5A8_LA1B"
      }
    },
    {
      "cell_type": "code",
      "source": [
        "coupon_rate = 5/100\n",
        "t = 4\n",
        "r = 6/100\n",
        "face_value = 1000\n",
        "m = 1 # annually payment\n",
        "\n",
        "c1 = face_value * coupon_rate # 1 year later\n",
        "t1 =1\n",
        "\n",
        "c2 = face_value * coupon_rate # 2 years later\n",
        "t2 =2\n",
        "\n",
        "c3 = face_value * coupon_rate # 3 years later\n",
        "t3 =3\n",
        "\n",
        "c4 = (face_value * coupon_rate) + face_value # 4 years later\n",
        "t4 =4\n",
        "\n"
      ],
      "metadata": {
        "id": "8fxoEsgbSE0A"
      },
      "execution_count": 117,
      "outputs": []
    },
    {
      "cell_type": "markdown",
      "source": [
        "## Calculate present values for each payment"
      ],
      "metadata": {
        "id": "UP3tM9bILE6t"
      }
    },
    {
      "cell_type": "code",
      "source": [
        "# initialize bond information.\n",
        "bond_info = {\n",
        "    'coupon_value': [c1, c2, c3, c4],\n",
        "    'time': [t1, t2, t3, t4]\n",
        "    }\n",
        "\n",
        "# Create DataFrame\n",
        "bond_data = pd.DataFrame(bond_info)\n",
        "\n",
        "# add 'present value' data to dataframe\n",
        "bond_data[\"present_value\"] = bond_data.apply(lambda row: calculate_present_value(row[\"coupon_value\"], r, m, row[\"time\"]), axis=1)\n",
        "\n",
        "bond_data"
      ],
      "metadata": {
        "colab": {
          "base_uri": "https://localhost:8080/",
          "height": 175
        },
        "id": "jaJ7ABYCXECi",
        "outputId": "5ed515ad-4f30-4fb4-f3dc-bccbdf8413e2"
      },
      "execution_count": 118,
      "outputs": [
        {
          "output_type": "execute_result",
          "data": {
            "text/plain": [
              "   coupon_value  time  present_value\n",
              "0          50.0     1      47.169811\n",
              "1          50.0     2      44.499822\n",
              "2          50.0     3      41.980964\n",
              "3        1050.0     4     831.698346"
            ],
            "text/html": [
              "\n",
              "  <div id=\"df-0c381a73-1c33-4ceb-964b-240a723e90c3\" class=\"colab-df-container\">\n",
              "    <div>\n",
              "<style scoped>\n",
              "    .dataframe tbody tr th:only-of-type {\n",
              "        vertical-align: middle;\n",
              "    }\n",
              "\n",
              "    .dataframe tbody tr th {\n",
              "        vertical-align: top;\n",
              "    }\n",
              "\n",
              "    .dataframe thead th {\n",
              "        text-align: right;\n",
              "    }\n",
              "</style>\n",
              "<table border=\"1\" class=\"dataframe\">\n",
              "  <thead>\n",
              "    <tr style=\"text-align: right;\">\n",
              "      <th></th>\n",
              "      <th>coupon_value</th>\n",
              "      <th>time</th>\n",
              "      <th>present_value</th>\n",
              "    </tr>\n",
              "  </thead>\n",
              "  <tbody>\n",
              "    <tr>\n",
              "      <th>0</th>\n",
              "      <td>50.0</td>\n",
              "      <td>1</td>\n",
              "      <td>47.169811</td>\n",
              "    </tr>\n",
              "    <tr>\n",
              "      <th>1</th>\n",
              "      <td>50.0</td>\n",
              "      <td>2</td>\n",
              "      <td>44.499822</td>\n",
              "    </tr>\n",
              "    <tr>\n",
              "      <th>2</th>\n",
              "      <td>50.0</td>\n",
              "      <td>3</td>\n",
              "      <td>41.980964</td>\n",
              "    </tr>\n",
              "    <tr>\n",
              "      <th>3</th>\n",
              "      <td>1050.0</td>\n",
              "      <td>4</td>\n",
              "      <td>831.698346</td>\n",
              "    </tr>\n",
              "  </tbody>\n",
              "</table>\n",
              "</div>\n",
              "    <div class=\"colab-df-buttons\">\n",
              "\n",
              "  <div class=\"colab-df-container\">\n",
              "    <button class=\"colab-df-convert\" onclick=\"convertToInteractive('df-0c381a73-1c33-4ceb-964b-240a723e90c3')\"\n",
              "            title=\"Convert this dataframe to an interactive table.\"\n",
              "            style=\"display:none;\">\n",
              "\n",
              "  <svg xmlns=\"http://www.w3.org/2000/svg\" height=\"24px\" viewBox=\"0 -960 960 960\">\n",
              "    <path d=\"M120-120v-720h720v720H120Zm60-500h600v-160H180v160Zm220 220h160v-160H400v160Zm0 220h160v-160H400v160ZM180-400h160v-160H180v160Zm440 0h160v-160H620v160ZM180-180h160v-160H180v160Zm440 0h160v-160H620v160Z\"/>\n",
              "  </svg>\n",
              "    </button>\n",
              "\n",
              "  <style>\n",
              "    .colab-df-container {\n",
              "      display:flex;\n",
              "      gap: 12px;\n",
              "    }\n",
              "\n",
              "    .colab-df-convert {\n",
              "      background-color: #E8F0FE;\n",
              "      border: none;\n",
              "      border-radius: 50%;\n",
              "      cursor: pointer;\n",
              "      display: none;\n",
              "      fill: #1967D2;\n",
              "      height: 32px;\n",
              "      padding: 0 0 0 0;\n",
              "      width: 32px;\n",
              "    }\n",
              "\n",
              "    .colab-df-convert:hover {\n",
              "      background-color: #E2EBFA;\n",
              "      box-shadow: 0px 1px 2px rgba(60, 64, 67, 0.3), 0px 1px 3px 1px rgba(60, 64, 67, 0.15);\n",
              "      fill: #174EA6;\n",
              "    }\n",
              "\n",
              "    .colab-df-buttons div {\n",
              "      margin-bottom: 4px;\n",
              "    }\n",
              "\n",
              "    [theme=dark] .colab-df-convert {\n",
              "      background-color: #3B4455;\n",
              "      fill: #D2E3FC;\n",
              "    }\n",
              "\n",
              "    [theme=dark] .colab-df-convert:hover {\n",
              "      background-color: #434B5C;\n",
              "      box-shadow: 0px 1px 3px 1px rgba(0, 0, 0, 0.15);\n",
              "      filter: drop-shadow(0px 1px 2px rgba(0, 0, 0, 0.3));\n",
              "      fill: #FFFFFF;\n",
              "    }\n",
              "  </style>\n",
              "\n",
              "    <script>\n",
              "      const buttonEl =\n",
              "        document.querySelector('#df-0c381a73-1c33-4ceb-964b-240a723e90c3 button.colab-df-convert');\n",
              "      buttonEl.style.display =\n",
              "        google.colab.kernel.accessAllowed ? 'block' : 'none';\n",
              "\n",
              "      async function convertToInteractive(key) {\n",
              "        const element = document.querySelector('#df-0c381a73-1c33-4ceb-964b-240a723e90c3');\n",
              "        const dataTable =\n",
              "          await google.colab.kernel.invokeFunction('convertToInteractive',\n",
              "                                                    [key], {});\n",
              "        if (!dataTable) return;\n",
              "\n",
              "        const docLinkHtml = 'Like what you see? Visit the ' +\n",
              "          '<a target=\"_blank\" href=https://colab.research.google.com/notebooks/data_table.ipynb>data table notebook</a>'\n",
              "          + ' to learn more about interactive tables.';\n",
              "        element.innerHTML = '';\n",
              "        dataTable['output_type'] = 'display_data';\n",
              "        await google.colab.output.renderOutput(dataTable, element);\n",
              "        const docLink = document.createElement('div');\n",
              "        docLink.innerHTML = docLinkHtml;\n",
              "        element.appendChild(docLink);\n",
              "      }\n",
              "    </script>\n",
              "  </div>\n",
              "\n",
              "\n",
              "<div id=\"df-0f965158-f674-489c-aebd-b7912259b25e\">\n",
              "  <button class=\"colab-df-quickchart\" onclick=\"quickchart('df-0f965158-f674-489c-aebd-b7912259b25e')\"\n",
              "            title=\"Suggest charts\"\n",
              "            style=\"display:none;\">\n",
              "\n",
              "<svg xmlns=\"http://www.w3.org/2000/svg\" height=\"24px\"viewBox=\"0 0 24 24\"\n",
              "     width=\"24px\">\n",
              "    <g>\n",
              "        <path d=\"M19 3H5c-1.1 0-2 .9-2 2v14c0 1.1.9 2 2 2h14c1.1 0 2-.9 2-2V5c0-1.1-.9-2-2-2zM9 17H7v-7h2v7zm4 0h-2V7h2v10zm4 0h-2v-4h2v4z\"/>\n",
              "    </g>\n",
              "</svg>\n",
              "  </button>\n",
              "\n",
              "<style>\n",
              "  .colab-df-quickchart {\n",
              "      --bg-color: #E8F0FE;\n",
              "      --fill-color: #1967D2;\n",
              "      --hover-bg-color: #E2EBFA;\n",
              "      --hover-fill-color: #174EA6;\n",
              "      --disabled-fill-color: #AAA;\n",
              "      --disabled-bg-color: #DDD;\n",
              "  }\n",
              "\n",
              "  [theme=dark] .colab-df-quickchart {\n",
              "      --bg-color: #3B4455;\n",
              "      --fill-color: #D2E3FC;\n",
              "      --hover-bg-color: #434B5C;\n",
              "      --hover-fill-color: #FFFFFF;\n",
              "      --disabled-bg-color: #3B4455;\n",
              "      --disabled-fill-color: #666;\n",
              "  }\n",
              "\n",
              "  .colab-df-quickchart {\n",
              "    background-color: var(--bg-color);\n",
              "    border: none;\n",
              "    border-radius: 50%;\n",
              "    cursor: pointer;\n",
              "    display: none;\n",
              "    fill: var(--fill-color);\n",
              "    height: 32px;\n",
              "    padding: 0;\n",
              "    width: 32px;\n",
              "  }\n",
              "\n",
              "  .colab-df-quickchart:hover {\n",
              "    background-color: var(--hover-bg-color);\n",
              "    box-shadow: 0 1px 2px rgba(60, 64, 67, 0.3), 0 1px 3px 1px rgba(60, 64, 67, 0.15);\n",
              "    fill: var(--button-hover-fill-color);\n",
              "  }\n",
              "\n",
              "  .colab-df-quickchart-complete:disabled,\n",
              "  .colab-df-quickchart-complete:disabled:hover {\n",
              "    background-color: var(--disabled-bg-color);\n",
              "    fill: var(--disabled-fill-color);\n",
              "    box-shadow: none;\n",
              "  }\n",
              "\n",
              "  .colab-df-spinner {\n",
              "    border: 2px solid var(--fill-color);\n",
              "    border-color: transparent;\n",
              "    border-bottom-color: var(--fill-color);\n",
              "    animation:\n",
              "      spin 1s steps(1) infinite;\n",
              "  }\n",
              "\n",
              "  @keyframes spin {\n",
              "    0% {\n",
              "      border-color: transparent;\n",
              "      border-bottom-color: var(--fill-color);\n",
              "      border-left-color: var(--fill-color);\n",
              "    }\n",
              "    20% {\n",
              "      border-color: transparent;\n",
              "      border-left-color: var(--fill-color);\n",
              "      border-top-color: var(--fill-color);\n",
              "    }\n",
              "    30% {\n",
              "      border-color: transparent;\n",
              "      border-left-color: var(--fill-color);\n",
              "      border-top-color: var(--fill-color);\n",
              "      border-right-color: var(--fill-color);\n",
              "    }\n",
              "    40% {\n",
              "      border-color: transparent;\n",
              "      border-right-color: var(--fill-color);\n",
              "      border-top-color: var(--fill-color);\n",
              "    }\n",
              "    60% {\n",
              "      border-color: transparent;\n",
              "      border-right-color: var(--fill-color);\n",
              "    }\n",
              "    80% {\n",
              "      border-color: transparent;\n",
              "      border-right-color: var(--fill-color);\n",
              "      border-bottom-color: var(--fill-color);\n",
              "    }\n",
              "    90% {\n",
              "      border-color: transparent;\n",
              "      border-bottom-color: var(--fill-color);\n",
              "    }\n",
              "  }\n",
              "</style>\n",
              "\n",
              "  <script>\n",
              "    async function quickchart(key) {\n",
              "      const quickchartButtonEl =\n",
              "        document.querySelector('#' + key + ' button');\n",
              "      quickchartButtonEl.disabled = true;  // To prevent multiple clicks.\n",
              "      quickchartButtonEl.classList.add('colab-df-spinner');\n",
              "      try {\n",
              "        const charts = await google.colab.kernel.invokeFunction(\n",
              "            'suggestCharts', [key], {});\n",
              "      } catch (error) {\n",
              "        console.error('Error during call to suggestCharts:', error);\n",
              "      }\n",
              "      quickchartButtonEl.classList.remove('colab-df-spinner');\n",
              "      quickchartButtonEl.classList.add('colab-df-quickchart-complete');\n",
              "    }\n",
              "    (() => {\n",
              "      let quickchartButtonEl =\n",
              "        document.querySelector('#df-0f965158-f674-489c-aebd-b7912259b25e button');\n",
              "      quickchartButtonEl.style.display =\n",
              "        google.colab.kernel.accessAllowed ? 'block' : 'none';\n",
              "    })();\n",
              "  </script>\n",
              "</div>\n",
              "\n",
              "  <div id=\"id_aac6dea8-a35d-45d3-bb7a-cede43b147cb\">\n",
              "    <style>\n",
              "      .colab-df-generate {\n",
              "        background-color: #E8F0FE;\n",
              "        border: none;\n",
              "        border-radius: 50%;\n",
              "        cursor: pointer;\n",
              "        display: none;\n",
              "        fill: #1967D2;\n",
              "        height: 32px;\n",
              "        padding: 0 0 0 0;\n",
              "        width: 32px;\n",
              "      }\n",
              "\n",
              "      .colab-df-generate:hover {\n",
              "        background-color: #E2EBFA;\n",
              "        box-shadow: 0px 1px 2px rgba(60, 64, 67, 0.3), 0px 1px 3px 1px rgba(60, 64, 67, 0.15);\n",
              "        fill: #174EA6;\n",
              "      }\n",
              "\n",
              "      [theme=dark] .colab-df-generate {\n",
              "        background-color: #3B4455;\n",
              "        fill: #D2E3FC;\n",
              "      }\n",
              "\n",
              "      [theme=dark] .colab-df-generate:hover {\n",
              "        background-color: #434B5C;\n",
              "        box-shadow: 0px 1px 3px 1px rgba(0, 0, 0, 0.15);\n",
              "        filter: drop-shadow(0px 1px 2px rgba(0, 0, 0, 0.3));\n",
              "        fill: #FFFFFF;\n",
              "      }\n",
              "    </style>\n",
              "    <button class=\"colab-df-generate\" onclick=\"generateWithVariable('bond_data')\"\n",
              "            title=\"Generate code using this dataframe.\"\n",
              "            style=\"display:none;\">\n",
              "\n",
              "  <svg xmlns=\"http://www.w3.org/2000/svg\" height=\"24px\"viewBox=\"0 0 24 24\"\n",
              "       width=\"24px\">\n",
              "    <path d=\"M7,19H8.4L18.45,9,17,7.55,7,17.6ZM5,21V16.75L18.45,3.32a2,2,0,0,1,2.83,0l1.4,1.43a1.91,1.91,0,0,1,.58,1.4,1.91,1.91,0,0,1-.58,1.4L9.25,21ZM18.45,9,17,7.55Zm-12,3A5.31,5.31,0,0,0,4.9,8.1,5.31,5.31,0,0,0,1,6.5,5.31,5.31,0,0,0,4.9,4.9,5.31,5.31,0,0,0,6.5,1,5.31,5.31,0,0,0,8.1,4.9,5.31,5.31,0,0,0,12,6.5,5.46,5.46,0,0,0,6.5,12Z\"/>\n",
              "  </svg>\n",
              "    </button>\n",
              "    <script>\n",
              "      (() => {\n",
              "      const buttonEl =\n",
              "        document.querySelector('#id_aac6dea8-a35d-45d3-bb7a-cede43b147cb button.colab-df-generate');\n",
              "      buttonEl.style.display =\n",
              "        google.colab.kernel.accessAllowed ? 'block' : 'none';\n",
              "\n",
              "      buttonEl.onclick = () => {\n",
              "        google.colab.notebook.generateWithVariable('bond_data');\n",
              "      }\n",
              "      })();\n",
              "    </script>\n",
              "  </div>\n",
              "\n",
              "    </div>\n",
              "  </div>\n"
            ],
            "application/vnd.google.colaboratory.intrinsic+json": {
              "type": "dataframe",
              "variable_name": "bond_data",
              "summary": "{\n  \"name\": \"bond_data\",\n  \"rows\": 4,\n  \"fields\": [\n    {\n      \"column\": \"coupon_value\",\n      \"properties\": {\n        \"dtype\": \"number\",\n        \"std\": 500.0,\n        \"min\": 50.0,\n        \"max\": 1050.0,\n        \"num_unique_values\": 2,\n        \"samples\": [\n          1050.0,\n          50.0\n        ],\n        \"semantic_type\": \"\",\n        \"description\": \"\"\n      }\n    },\n    {\n      \"column\": \"time\",\n      \"properties\": {\n        \"dtype\": \"number\",\n        \"std\": 1,\n        \"min\": 1,\n        \"max\": 4,\n        \"num_unique_values\": 4,\n        \"samples\": [\n          2,\n          4\n        ],\n        \"semantic_type\": \"\",\n        \"description\": \"\"\n      }\n    },\n    {\n      \"column\": \"present_value\",\n      \"properties\": {\n        \"dtype\": \"number\",\n        \"std\": 393.57977596857154,\n        \"min\": 41.98096415161509,\n        \"max\": 831.6983463999214,\n        \"num_unique_values\": 4,\n        \"samples\": [\n          44.499822000711994,\n          831.6983463999214\n        ],\n        \"semantic_type\": \"\",\n        \"description\": \"\"\n      }\n    }\n  ]\n}"
            }
          },
          "metadata": {},
          "execution_count": 118
        }
      ]
    },
    {
      "cell_type": "markdown",
      "source": [
        "## Barplot of the payments"
      ],
      "metadata": {
        "id": "ng9rtXfpLP0g"
      }
    },
    {
      "cell_type": "code",
      "source": [
        "# Plot barplot with seaborn for the coupon payments\n",
        "ax = sns.barplot(data = bond_data, y = \"time\", x = \"coupon_value\", orient='h')\n",
        "ax.bar_label(ax.containers[0]) # TODO: amount' larin onune $ nasil ekleniyor?\n",
        "ax.set(\n",
        "    title='Coupon payments',\n",
        "    xlabel='coupon amount ($)',\n",
        "    ylabel='payment date (year)'\n",
        "    )\n",
        "#ax.set(xlabel='common xlabel', ylabel='common ylabel')\n",
        "plt.show()\n",
        "\n",
        "#type(ax.containers[0])\n",
        "## \"${:.2f}\".format(a)"
      ],
      "metadata": {
        "colab": {
          "base_uri": "https://localhost:8080/",
          "height": 472
        },
        "id": "e9HCAIXDFenu",
        "outputId": "7ca182d0-9aed-468a-cef7-e3fcd792e8ea"
      },
      "execution_count": 119,
      "outputs": [
        {
          "output_type": "display_data",
          "data": {
            "text/plain": [
              "<Figure size 640x480 with 1 Axes>"
            ],
            "image/png": "[encoded data removed]"
          },
          "metadata": {}
        }
      ]
    },
    {
      "cell_type": "code",
      "source": [
        "bond_data"
      ],
      "metadata": {
        "colab": {
          "base_uri": "https://localhost:8080/",
          "height": 175
        },
        "id": "4DPzClCgGaiI",
        "outputId": "ae68f142-05b3-4d47-d1bf-304703f39a1c"
      },
      "execution_count": 120,
      "outputs": [
        {
          "output_type": "execute_result",
          "data": {
            "text/plain": [
              "   coupon_value  time  present_value\n",
              "0          50.0     1      47.169811\n",
              "1          50.0     2      44.499822\n",
              "2          50.0     3      41.980964\n",
              "3        1050.0     4     831.698346"
            ],
            "text/html": [
              "\n",
              "  <div id=\"df-61781073-1b84-4073-b46f-cb5a53976e3a\" class=\"colab-df-container\">\n",
              "    <div>\n",
              "<style scoped>\n",
              "    .dataframe tbody tr th:only-of-type {\n",
              "        vertical-align: middle;\n",
              "    }\n",
              "\n",
              "    .dataframe tbody tr th {\n",
              "        vertical-align: top;\n",
              "    }\n",
              "\n",
              "    .dataframe thead th {\n",
              "        text-align: right;\n",
              "    }\n",
              "</style>\n",
              "<table border=\"1\" class=\"dataframe\">\n",
              "  <thead>\n",
              "    <tr style=\"text-align: right;\">\n",
              "      <th></th>\n",
              "      <th>coupon_value</th>\n",
              "      <th>time</th>\n",
              "      <th>present_value</th>\n",
              "    </tr>\n",
              "  </thead>\n",
              "  <tbody>\n",
              "    <tr>\n",
              "      <th>0</th>\n",
              "      <td>50.0</td>\n",
              "      <td>1</td>\n",
              "      <td>47.169811</td>\n",
              "    </tr>\n",
              "    <tr>\n",
              "      <th>1</th>\n",
              "      <td>50.0</td>\n",
              "      <td>2</td>\n",
              "      <td>44.499822</td>\n",
              "    </tr>\n",
              "    <tr>\n",
              "      <th>2</th>\n",
              "      <td>50.0</td>\n",
              "      <td>3</td>\n",
              "      <td>41.980964</td>\n",
              "    </tr>\n",
              "    <tr>\n",
              "      <th>3</th>\n",
              "      <td>1050.0</td>\n",
              "      <td>4</td>\n",
              "      <td>831.698346</td>\n",
              "    </tr>\n",
              "  </tbody>\n",
              "</table>\n",
              "</div>\n",
              "    <div class=\"colab-df-buttons\">\n",
              "\n",
              "  <div class=\"colab-df-container\">\n",
              "    <button class=\"colab-df-convert\" onclick=\"convertToInteractive('df-61781073-1b84-4073-b46f-cb5a53976e3a')\"\n",
              "            title=\"Convert this dataframe to an interactive table.\"\n",
              "            style=\"display:none;\">\n",
              "\n",
              "  <svg xmlns=\"http://www.w3.org/2000/svg\" height=\"24px\" viewBox=\"0 -960 960 960\">\n",
              "    <path d=\"M120-120v-720h720v720H120Zm60-500h600v-160H180v160Zm220 220h160v-160H400v160Zm0 220h160v-160H400v160ZM180-400h160v-160H180v160Zm440 0h160v-160H620v160ZM180-180h160v-160H180v160Zm440 0h160v-160H620v160Z\"/>\n",
              "  </svg>\n",
              "    </button>\n",
              "\n",
              "  <style>\n",
              "    .colab-df-container {\n",
              "      display:flex;\n",
              "      gap: 12px;\n",
              "    }\n",
              "\n",
              "    .colab-df-convert {\n",
              "      background-color: #E8F0FE;\n",
              "      border: none;\n",
              "      border-radius: 50%;\n",
              "      cursor: pointer;\n",
              "      display: none;\n",
              "      fill: #1967D2;\n",
              "      height: 32px;\n",
              "      padding: 0 0 0 0;\n",
              "      width: 32px;\n",
              "    }\n",
              "\n",
              "    .colab-df-convert:hover {\n",
              "      background-color: #E2EBFA;\n",
              "      box-shadow: 0px 1px 2px rgba(60, 64, 67, 0.3), 0px 1px 3px 1px rgba(60, 64, 67, 0.15);\n",
              "      fill: #174EA6;\n",
              "    }\n",
              "\n",
              "    .colab-df-buttons div {\n",
              "      margin-bottom: 4px;\n",
              "    }\n",
              "\n",
              "    [theme=dark] .colab-df-convert {\n",
              "      background-color: #3B4455;\n",
              "      fill: #D2E3FC;\n",
              "    }\n",
              "\n",
              "    [theme=dark] .colab-df-convert:hover {\n",
              "      background-color: #434B5C;\n",
              "      box-shadow: 0px 1px 3px 1px rgba(0, 0, 0, 0.15);\n",
              "      filter: drop-shadow(0px 1px 2px rgba(0, 0, 0, 0.3));\n",
              "      fill: #FFFFFF;\n",
              "    }\n",
              "  </style>\n",
              "\n",
              "    <script>\n",
              "      const buttonEl =\n",
              "        document.querySelector('#df-61781073-1b84-4073-b46f-cb5a53976e3a button.colab-df-convert');\n",
              "      buttonEl.style.display =\n",
              "        google.colab.kernel.accessAllowed ? 'block' : 'none';\n",
              "\n",
              "      async function convertToInteractive(key) {\n",
              "        const element = document.querySelector('#df-61781073-1b84-4073-b46f-cb5a53976e3a');\n",
              "        const dataTable =\n",
              "          await google.colab.kernel.invokeFunction('convertToInteractive',\n",
              "                                                    [key], {});\n",
              "        if (!dataTable) return;\n",
              "\n",
              "        const docLinkHtml = 'Like what you see? Visit the ' +\n",
              "          '<a target=\"_blank\" href=https://colab.research.google.com/notebooks/data_table.ipynb>data table notebook</a>'\n",
              "          + ' to learn more about interactive tables.';\n",
              "        element.innerHTML = '';\n",
              "        dataTable['output_type'] = 'display_data';\n",
              "        await google.colab.output.renderOutput(dataTable, element);\n",
              "        const docLink = document.createElement('div');\n",
              "        docLink.innerHTML = docLinkHtml;\n",
              "        element.appendChild(docLink);\n",
              "      }\n",
              "    </script>\n",
              "  </div>\n",
              "\n",
              "\n",
              "<div id=\"df-6241c906-e9e1-43de-bd23-164606d13442\">\n",
              "  <button class=\"colab-df-quickchart\" onclick=\"quickchart('df-6241c906-e9e1-43de-bd23-164606d13442')\"\n",
              "            title=\"Suggest charts\"\n",
              "            style=\"display:none;\">\n",
              "\n",
              "<svg xmlns=\"http://www.w3.org/2000/svg\" height=\"24px\"viewBox=\"0 0 24 24\"\n",
              "     width=\"24px\">\n",
              "    <g>\n",
              "        <path d=\"M19 3H5c-1.1 0-2 .9-2 2v14c0 1.1.9 2 2 2h14c1.1 0 2-.9 2-2V5c0-1.1-.9-2-2-2zM9 17H7v-7h2v7zm4 0h-2V7h2v10zm4 0h-2v-4h2v4z\"/>\n",
              "    </g>\n",
              "</svg>\n",
              "  </button>\n",
              "\n",
              "<style>\n",
              "  .colab-df-quickchart {\n",
              "      --bg-color: #E8F0FE;\n",
              "      --fill-color: #1967D2;\n",
              "      --hover-bg-color: #E2EBFA;\n",
              "      --hover-fill-color: #174EA6;\n",
              "      --disabled-fill-color: #AAA;\n",
              "      --disabled-bg-color: #DDD;\n",
              "  }\n",
              "\n",
              "  [theme=dark] .colab-df-quickchart {\n",
              "      --bg-color: #3B4455;\n",
              "      --fill-color: #D2E3FC;\n",
              "      --hover-bg-color: #434B5C;\n",
              "      --hover-fill-color: #FFFFFF;\n",
              "      --disabled-bg-color: #3B4455;\n",
              "      --disabled-fill-color: #666;\n",
              "  }\n",
              "\n",
              "  .colab-df-quickchart {\n",
              "    background-color: var(--bg-color);\n",
              "    border: none;\n",
              "    border-radius: 50%;\n",
              "    cursor: pointer;\n",
              "    display: none;\n",
              "    fill: var(--fill-color);\n",
              "    height: 32px;\n",
              "    padding: 0;\n",
              "    width: 32px;\n",
              "  }\n",
              "\n",
              "  .colab-df-quickchart:hover {\n",
              "    background-color: var(--hover-bg-color);\n",
              "    box-shadow: 0 1px 2px rgba(60, 64, 67, 0.3), 0 1px 3px 1px rgba(60, 64, 67, 0.15);\n",
              "    fill: var(--button-hover-fill-color);\n",
              "  }\n",
              "\n",
              "  .colab-df-quickchart-complete:disabled,\n",
              "  .colab-df-quickchart-complete:disabled:hover {\n",
              "    background-color: var(--disabled-bg-color);\n",
              "    fill: var(--disabled-fill-color);\n",
              "    box-shadow: none;\n",
              "  }\n",
              "\n",
              "  .colab-df-spinner {\n",
              "    border: 2px solid var(--fill-color);\n",
              "    border-color: transparent;\n",
              "    border-bottom-color: var(--fill-color);\n",
              "    animation:\n",
              "      spin 1s steps(1) infinite;\n",
              "  }\n",
              "\n",
              "  @keyframes spin {\n",
              "    0% {\n",
              "      border-color: transparent;\n",
              "      border-bottom-color: var(--fill-color);\n",
              "      border-left-color: var(--fill-color);\n",
              "    }\n",
              "    20% {\n",
              "      border-color: transparent;\n",
              "      border-left-color: var(--fill-color);\n",
              "      border-top-color: var(--fill-color);\n",
              "    }\n",
              "    30% {\n",
              "      border-color: transparent;\n",
              "      border-left-color: var(--fill-color);\n",
              "      border-top-color: var(--fill-color);\n",
              "      border-right-color: var(--fill-color);\n",
              "    }\n",
              "    40% {\n",
              "      border-color: transparent;\n",
              "      border-right-color: var(--fill-color);\n",
              "      border-top-color: var(--fill-color);\n",
              "    }\n",
              "    60% {\n",
              "      border-color: transparent;\n",
              "      border-right-color: var(--fill-color);\n",
              "    }\n",
              "    80% {\n",
              "      border-color: transparent;\n",
              "      border-right-color: var(--fill-color);\n",
              "      border-bottom-color: var(--fill-color);\n",
              "    }\n",
              "    90% {\n",
              "      border-color: transparent;\n",
              "      border-bottom-color: var(--fill-color);\n",
              "    }\n",
              "  }\n",
              "</style>\n",
              "\n",
              "  <script>\n",
              "    async function quickchart(key) {\n",
              "      const quickchartButtonEl =\n",
              "        document.querySelector('#' + key + ' button');\n",
              "      quickchartButtonEl.disabled = true;  // To prevent multiple clicks.\n",
              "      quickchartButtonEl.classList.add('colab-df-spinner');\n",
              "      try {\n",
              "        const charts = await google.colab.kernel.invokeFunction(\n",
              "            'suggestCharts', [key], {});\n",
              "      } catch (error) {\n",
              "        console.error('Error during call to suggestCharts:', error);\n",
              "      }\n",
              "      quickchartButtonEl.classList.remove('colab-df-spinner');\n",
              "      quickchartButtonEl.classList.add('colab-df-quickchart-complete');\n",
              "    }\n",
              "    (() => {\n",
              "      let quickchartButtonEl =\n",
              "        document.querySelector('#df-6241c906-e9e1-43de-bd23-164606d13442 button');\n",
              "      quickchartButtonEl.style.display =\n",
              "        google.colab.kernel.accessAllowed ? 'block' : 'none';\n",
              "    })();\n",
              "  </script>\n",
              "</div>\n",
              "\n",
              "  <div id=\"id_1dfd7105-8c29-4380-b3cb-c2791c390829\">\n",
              "    <style>\n",
              "      .colab-df-generate {\n",
              "        background-color: #E8F0FE;\n",
              "        border: none;\n",
              "        border-radius: 50%;\n",
              "        cursor: pointer;\n",
              "        display: none;\n",
              "        fill: #1967D2;\n",
              "        height: 32px;\n",
              "        padding: 0 0 0 0;\n",
              "        width: 32px;\n",
              "      }\n",
              "\n",
              "      .colab-df-generate:hover {\n",
              "        background-color: #E2EBFA;\n",
              "        box-shadow: 0px 1px 2px rgba(60, 64, 67, 0.3), 0px 1px 3px 1px rgba(60, 64, 67, 0.15);\n",
              "        fill: #174EA6;\n",
              "      }\n",
              "\n",
              "      [theme=dark] .colab-df-generate {\n",
              "        background-color: #3B4455;\n",
              "        fill: #D2E3FC;\n",
              "      }\n",
              "\n",
              "      [theme=dark] .colab-df-generate:hover {\n",
              "        background-color: #434B5C;\n",
              "        box-shadow: 0px 1px 3px 1px rgba(0, 0, 0, 0.15);\n",
              "        filter: drop-shadow(0px 1px 2px rgba(0, 0, 0, 0.3));\n",
              "        fill: #FFFFFF;\n",
              "      }\n",
              "    </style>\n",
              "    <button class=\"colab-df-generate\" onclick=\"generateWithVariable('bond_data')\"\n",
              "            title=\"Generate code using this dataframe.\"\n",
              "            style=\"display:none;\">\n",
              "\n",
              "  <svg xmlns=\"http://www.w3.org/2000/svg\" height=\"24px\"viewBox=\"0 0 24 24\"\n",
              "       width=\"24px\">\n",
              "    <path d=\"M7,19H8.4L18.45,9,17,7.55,7,17.6ZM5,21V16.75L18.45,3.32a2,2,0,0,1,2.83,0l1.4,1.43a1.91,1.91,0,0,1,.58,1.4,1.91,1.91,0,0,1-.58,1.4L9.25,21ZM18.45,9,17,7.55Zm-12,3A5.31,5.31,0,0,0,4.9,8.1,5.31,5.31,0,0,0,1,6.5,5.31,5.31,0,0,0,4.9,4.9,5.31,5.31,0,0,0,6.5,1,5.31,5.31,0,0,0,8.1,4.9,5.31,5.31,0,0,0,12,6.5,5.46,5.46,0,0,0,6.5,12Z\"/>\n",
              "  </svg>\n",
              "    </button>\n",
              "    <script>\n",
              "      (() => {\n",
              "      const buttonEl =\n",
              "        document.querySelector('#id_1dfd7105-8c29-4380-b3cb-c2791c390829 button.colab-df-generate');\n",
              "      buttonEl.style.display =\n",
              "        google.colab.kernel.accessAllowed ? 'block' : 'none';\n",
              "\n",
              "      buttonEl.onclick = () => {\n",
              "        google.colab.notebook.generateWithVariable('bond_data');\n",
              "      }\n",
              "      })();\n",
              "    </script>\n",
              "  </div>\n",
              "\n",
              "    </div>\n",
              "  </div>\n"
            ],
            "application/vnd.google.colaboratory.intrinsic+json": {
              "type": "dataframe",
              "variable_name": "bond_data",
              "summary": "{\n  \"name\": \"bond_data\",\n  \"rows\": 4,\n  \"fields\": [\n    {\n      \"column\": \"coupon_value\",\n      \"properties\": {\n        \"dtype\": \"number\",\n        \"std\": 500.0,\n        \"min\": 50.0,\n        \"max\": 1050.0,\n        \"num_unique_values\": 2,\n        \"samples\": [\n          1050.0,\n          50.0\n        ],\n        \"semantic_type\": \"\",\n        \"description\": \"\"\n      }\n    },\n    {\n      \"column\": \"time\",\n      \"properties\": {\n        \"dtype\": \"number\",\n        \"std\": 1,\n        \"min\": 1,\n        \"max\": 4,\n        \"num_unique_values\": 4,\n        \"samples\": [\n          2,\n          4\n        ],\n        \"semantic_type\": \"\",\n        \"description\": \"\"\n      }\n    },\n    {\n      \"column\": \"present_value\",\n      \"properties\": {\n        \"dtype\": \"number\",\n        \"std\": 393.57977596857154,\n        \"min\": 41.98096415161509,\n        \"max\": 831.6983463999214,\n        \"num_unique_values\": 4,\n        \"samples\": [\n          44.499822000711994,\n          831.6983463999214\n        ],\n        \"semantic_type\": \"\",\n        \"description\": \"\"\n      }\n    }\n  ]\n}"
            }
          },
          "metadata": {},
          "execution_count": 120
        }
      ]
    },
    {
      "cell_type": "markdown",
      "source": [
        "## Print the bond life cycle"
      ],
      "metadata": {
        "id": "sLGnuoA3LXwF"
      }
    },
    {
      "cell_type": "code",
      "source": [
        "print_bond_present_value_description(bond_data)"
      ],
      "metadata": {
        "colab": {
          "base_uri": "https://localhost:8080/"
        },
        "id": "jI11LQHTF94x",
        "outputId": "1095d52c-5e80-4f56-fec9-0ed13efbba9e"
      },
      "execution_count": 121,
      "outputs": [
        {
          "output_type": "stream",
          "name": "stdout",
          "text": [
            "$50.00  will be paid  1.0  year(s) later. Present value of  $50.00  is  $47.17\n",
            "$50.00  will be paid  2.0  year(s) later. Present value of  $50.00  is  $44.50\n",
            "$50.00  will be paid  3.0  year(s) later. Present value of  $50.00  is  $41.98\n",
            "$1050.00  will be paid  4.0  year(s) later. Present value of  $1050.00  is  $831.70\n",
            "Present value of the bond is $965.35\n"
          ]
        }
      ]
    },
    {
      "cell_type": "markdown",
      "source": [
        "NOTE: Present value of the bond is $965.35\n",
        "\n",
        "This amount of $965.35 is called DIRTY PRICE since this calculation does not take into account the accured interest!"
      ],
      "metadata": {
        "id": "-ezMQGC71qxK"
      }
    },
    {
      "cell_type": "markdown",
      "source": [
        "## Scatter Plot of the present values of the payments"
      ],
      "metadata": {
        "id": "6Rk9z3GFLf5l"
      }
    },
    {
      "cell_type": "code",
      "source": [
        "plt.figure(figsize=(12, 12))\n",
        "\n",
        "# present value vs future value plot\n",
        "ax = sns.scatterplot(data=bond_data, x=\"coupon_value\",\n",
        "                    y=\"present_value\")\n",
        "ax.set_xlim(0, 1100)\n",
        "ax.set_xticks(np.arange(start=0, stop=1100, step=50))\n",
        "ax.set_yticks(np.arange(start=0, stop=900, step=50))\n",
        "\n",
        "\n",
        "\n",
        "ax.axvline(bond_data.iloc[0][\"coupon_value\"], color=\"blue\", linestyle=\"--\", label=\"to be paid in the future\")\n",
        "ax.axvline(bond_data.iloc[3][\"coupon_value\"], color=\"blue\", linestyle=\"--\")\n",
        "\n",
        "ax.axhline(bond_data.iloc[0][\"present_value\"], color=\"red\", linestyle=\"--\", label=\"present value\")\n",
        "ax.axhline(bond_data.iloc[3][\"present_value\"], color=\"red\", linestyle=\"--\")\n",
        "\n",
        "ax.set(\n",
        "    title='Present vs To be paid values',\n",
        "    xlabel='To be paid Values ($)',\n",
        "    ylabel='Present values ($)'\n",
        "    )\n",
        "ax.legend(loc=\"center right\")\n",
        "\n",
        "plt.show()\n",
        "\n",
        "# TODO: 50 ve 1050' leri x ekseninde nasil isaretleyecegim?\n",
        "# TODO: PV(50) ve PV(1050)' leri y ekseninde nasil isaretleyecegim?"
      ],
      "metadata": {
        "colab": {
          "base_uri": "https://localhost:8080/",
          "height": 1000
        },
        "id": "8a7PFEyMrMDl",
        "outputId": "86ddd077-d836-45e1-e1b1-59d8c5aaa9f5"
      },
      "execution_count": 122,
      "outputs": [
        {
          "output_type": "display_data",
          "data": {
            "text/plain": [
              "<Figure size 1200x1200 with 1 Axes>"
            ],
            "image/png": "[encoded data removed]"
          },
          "metadata": {}
        }
      ]
    },
    {
      "cell_type": "markdown",
      "source": [
        "# 5) Present and Future Values of Cash Flow Streams"
      ],
      "metadata": {
        "id": "uRmPmt6153k8"
      }
    },
    {
      "cell_type": "markdown",
      "source": [
        "## Example[1]:\n",
        "Consider a contract that pays\n",
        "\n",
        "*   $ 1000  in 1 year,\n",
        "\n",
        "*   $ 3000  in 2 years,\n",
        "\n",
        "*   $ 5000  in 4 years.\n",
        "\n",
        "Suppose the prevailing interest rate for all terms to maturity is 5%.\n",
        "* [1] What is the future value of this contract at its maturity (in 4 years)? We will invest the money when we receive until the end of the contract.\n",
        "* [2] How much should we pay to enter into this contract?\n"
      ],
      "metadata": {
        "id": "_uGVAQBu6BcW"
      }
    },
    {
      "cell_type": "markdown",
      "source": [],
      "metadata": {
        "id": "mh81iO757iM7"
      }
    },
    {
      "cell_type": "code",
      "source": [
        "print(\"[1]\")\n",
        "#[1] What is the future value of this contract at its maturity (in 4 years)?\n",
        "# We will invest the money when we receive until the end of the contract.\n",
        "\n",
        "# for $1000 payment: FV = (4-1=3 years of compounding interest) + $1000\n",
        "FV_1000 = calculate_compounded_interest(X=1000, m=1, r=5/100, t=3)\n",
        "print(\"Future value of $1000: \", get_formatted_amout(FV_1000))\n",
        "\n",
        "# for $3000 payment: FV = (4-2=2 years of compounding interest) + $3000\n",
        "FV_3000 = calculate_compounded_interest(X=3000, m=1, r=5/100, t=2)\n",
        "print(\"Future value of $3000: \", get_formatted_amout(FV_3000))\n",
        "\n",
        "# for $5000 payment: FV = (4-4=0 years of compounding interest) + $5000\n",
        "FV_5000 = calculate_compounded_interest(X=5000, m=1, r=5/100, t=0)\n",
        "print(\"Future value of $5000: \",get_formatted_amout(FV_5000))\n",
        "\n",
        "print(\"Total future value is the sum of each future values: \", get_formatted_amout(FV_1000+FV_3000+FV_5000))\n",
        "print()\n",
        "\n",
        "print(\"[2]\")\n",
        "# [2] How much should we pay to enter into this contract?\n",
        "# so i need to find the present values of each future value.\n",
        "\n",
        "# for $1000 payment will be done in 1 year\n",
        "PV_1000 = calculate_present_value(total_return_amount=1000, m=1, t=1, r=5/100)\n",
        "print(\"Present value of $1000 (to be paid in 1 year): \", get_formatted_amout(PV_1000))\n",
        "\n",
        "# for $3000 payment will be done in 2 year\n",
        "PV_3000 = calculate_present_value(total_return_amount=3000, m=1, t=2, r=5/100)\n",
        "print(\"Present value of $3000 (to be paid in 2 year): \", get_formatted_amout(PV_3000))\n",
        "\n",
        "# for $5000 payment will be done in 4 year\n",
        "PV_5000 = calculate_present_value(total_return_amount=5000, m=1, t=4, r=5/100)\n",
        "print(\"Present value of $5000 (to be paid in 5 year): \", get_formatted_amout(PV_5000))\n",
        "print(\"Total present value is the sum of each present values:\", get_formatted_amout(PV_1000 + PV_3000 + PV_5000))\n"
      ],
      "metadata": {
        "colab": {
          "base_uri": "https://localhost:8080/"
        },
        "id": "16UsZ8on7dk0",
        "outputId": "6f2785a8-9453-45e6-e99a-abfa78e3f9be"
      },
      "execution_count": 123,
      "outputs": [
        {
          "output_type": "stream",
          "name": "stdout",
          "text": [
            "[1]\n",
            "Future value of $1000:  $1157.63\n",
            "Future value of $3000:  $3307.50\n",
            "Future value of $5000:  $5000.00\n",
            "Total future value is the sum of each future values:  $9465.12\n",
            "\n",
            "[2]\n",
            "Present value of $1000 (to be paid in 1 year):  $952.38\n",
            "Present value of $3000 (to be paid in 2 year):  $2721.09\n",
            "Present value of $5000 (to be paid in 5 year):  $4113.51\n",
            "Total present value is the sum of each present values: $7786.98\n"
          ]
        }
      ]
    },
    {
      "cell_type": "markdown",
      "source": [
        "## Example[2]:\n",
        "\n",
        "Suppose you intend to save\n",
        "\n",
        "$5000 per year for the next 2 years,\n",
        "\n",
        "$8000 per year for the next 2 years\n",
        "\n",
        "after that, and finally $10000 in the fifth year.\n",
        "\n",
        "If you are earning an interest rate of 4% in your savings account,\n",
        "\n",
        "how much money will be in your account after 5 years?"
      ],
      "metadata": {
        "id": "SGcWsDk0_47u"
      }
    },
    {
      "cell_type": "code",
      "source": [
        "earning_data = {\n",
        "    \"savings\": [5000, 5000, 8000, 8000, 10000],\n",
        "    \"when_to_save\": [1, 2, 3, 4, 5] # after n year(s)\n",
        "}\n",
        "\n",
        "df_earning = pd.DataFrame(data=earning_data)\n",
        "\n",
        "\n",
        "df_earning[\"year_in_savings_account\"] = 5 - df_earning[\"when_to_save\"]\n",
        "print(df_earning)\n",
        "\n",
        "ax = sns.scatterplot(data=df_earning, x = \"savings\", y=\"year_in_savings_account\")\n",
        "\n",
        "ax.set(\n",
        "    title='Year(s) in the savings account vs Savings',\n",
        "    xlabel='Savings',\n",
        "    ylabel='Year in the savings account'\n",
        "    )\n",
        "\n",
        "plt.show()\n"
      ],
      "metadata": {
        "colab": {
          "base_uri": "https://localhost:8080/",
          "height": 576
        },
        "id": "3m9-o2BMKxO2",
        "outputId": "d38803c2-e7b6-4940-e6f8-fa6ee2463c1f"
      },
      "execution_count": 124,
      "outputs": [
        {
          "output_type": "stream",
          "name": "stdout",
          "text": [
            "   savings  when_to_save  year_in_savings_account\n",
            "0     5000             1                        4\n",
            "1     5000             2                        3\n",
            "2     8000             3                        2\n",
            "3     8000             4                        1\n",
            "4    10000             5                        0\n"
          ]
        },
        {
          "output_type": "display_data",
          "data": {
            "text/plain": [
              "<Figure size 640x480 with 1 Axes>"
            ],
            "image/png": "[encoded data removed]"
          },
          "metadata": {}
        }
      ]
    },
    {
      "cell_type": "code",
      "source": [
        "\n",
        "r = 4/100\n",
        "df_earning[\"future_value\"] = df_earning.apply(lambda row: calculate_compounded_interest(row[\"savings\"], 1, r, row[\"year_in_savings_account\"]), axis=1)\n",
        "print(df_earning)\n",
        "print()\n",
        "print(\"How much money will be in your account after 5 years?: \", get_formatted_amout(df_earning[\"future_value\"].sum()))\n"
      ],
      "metadata": {
        "colab": {
          "base_uri": "https://localhost:8080/"
        },
        "id": "MEjCIDrcHE-j",
        "outputId": "c6836b6b-9cd9-44d6-8cee-9f82ca767129"
      },
      "execution_count": 130,
      "outputs": [
        {
          "output_type": "stream",
          "name": "stdout",
          "text": [
            "   savings  when_to_save  year_in_savings_account  future_value\n",
            "0     5000             1                        4     5849.2928\n",
            "1     5000             2                        3     5624.3200\n",
            "2     8000             3                        2     8652.8000\n",
            "3     8000             4                        1     8320.0000\n",
            "4    10000             5                        0    10000.0000\n",
            "\n",
            "How much money will be in your account after 5 years?:  $38446.41\n"
          ]
        }
      ]
    },
    {
      "cell_type": "code",
      "source": [],
      "metadata": {
        "id": "7WFch9FxJ0jk"
      },
      "execution_count": 125,
      "outputs": []
    }
  ]
}